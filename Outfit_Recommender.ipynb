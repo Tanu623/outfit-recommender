{
  "nbformat": 4,
  "nbformat_minor": 0,
  "metadata": {
    "colab": {
      "provenance": []
    },
    "kernelspec": {
      "name": "python3",
      "display_name": "Python 3"
    },
    "language_info": {
      "name": "python"
    }
  },
  "cells": [
    {
      "cell_type": "code",
      "execution_count": 1,
      "metadata": {
        "colab": {
          "base_uri": "https://localhost:8080/"
        },
        "id": "ykLTzMBwiqr7",
        "outputId": "cf45adb8-f23e-4d50-94d2-4c721fb01c1d"
      },
      "outputs": [
        {
          "output_type": "stream",
          "name": "stdout",
          "text": [
            "Cloning into 'outfit-recommender'...\n",
            "remote: Enumerating objects: 3, done.\u001b[K\n",
            "remote: Counting objects: 100% (3/3), done.\u001b[K\n",
            "remote: Total 3 (delta 0), reused 0 (delta 0), pack-reused 0 (from 0)\u001b[K\n",
            "Receiving objects: 100% (3/3), done.\n",
            "/content/outfit-recommender\n"
          ]
        }
      ],
      "source": [
        "# Run this in Colab\n",
        "!git clone https://github.com/Tanu623/outfit-recommender.git\n",
        "%cd outfit-recommender"
      ]
    },
    {
      "cell_type": "code",
      "source": [
        "!mkdir -p data\n",
        "# Write the CSV file\n",
        "with open(\"data/outfits.csv\", \"w\") as f:\n",
        "    f.write(\"outfit,color,occasion\\n\")\n",
        "    f.write(\"Casual Shirt and Jeans,Blue,Casual\\n\")\n",
        "    f.write(\"Black Suit,Black,Formal\\n\")\n",
        "    f.write(\"Red Dress,Red,Party\\n\")\n",
        "    f.write(\"Sports Tracksuit,Grey,Sports\\n\")\n",
        "# Verify the contents\n",
        "!cat data/outfits.csv"
      ],
      "metadata": {
        "colab": {
          "base_uri": "https://localhost:8080/"
        },
        "id": "g22QdyWmkvWC",
        "outputId": "5d989239-290c-46eb-f152-b95a46ecda05"
      },
      "execution_count": 3,
      "outputs": [
        {
          "output_type": "stream",
          "name": "stdout",
          "text": [
            "outfit,color,occasion\n",
            "Casual Shirt and Jeans,Blue,Casual\n",
            "Black Suit,Black,Formal\n",
            "Red Dress,Red,Party\n",
            "Sports Tracksuit,Grey,Sports\n"
          ]
        }
      ]
    },
    {
      "cell_type": "code",
      "source": [
        "# Step 4: Create recommender/outfit_recommender.py\n",
        "# Make sure the recommender directory exists\n",
        "!mkdir -p recommender\n",
        "# Create outfit_recommender.py with the recommender class\n",
        "with open(\"recommender/outfit_recommender.py\", \"w\") as f:\n",
        "    f.write(\"\"\"\n",
        "import pandas as pd\n",
        "class OutfitRecommender:\n",
        "    def __init__(self, csv_path):\n",
        "        self.data = pd.read_csv(csv_path)\n",
        "    def recommend(self, color=None, occasion=None):\n",
        "        result = self.data\n",
        "        if color:\n",
        "            result = result[result['color'].str.lower() ==\n",
        "                            color.lower()]\n",
        "        if occasion:\n",
        "            result = result[result['occasion'].str.lower() ==\n",
        "                            occasion.lower()]\n",
        "\n",
        "        return result['outfit'].tolist()\n",
        "\n",
        "\"\"\")"
      ],
      "metadata": {
        "id": "YhDQMJZymKTg"
      },
      "execution_count": 6,
      "outputs": []
    },
    {
      "cell_type": "code",
      "source": [
        "# Write the main.py file in the current directory\n",
        "with open(\"main.py\", \"w\") as f:\n",
        "    f.write(\"\"\"\n",
        "from recommender.outfit_recommender import OutfitRecommender\n",
        "def main():\n",
        "    recommender = OutfitRecommender(\"data/outfits.csv\")\n",
        "    print(\"Recommendations for color='Red', occasion='Party':\")\n",
        "    print(recommender.recommend(color='Red', occasion='Party'))\n",
        "if __name__ == \"__main__\":\n",
        "    main()\n",
        "\"\"\")"
      ],
      "metadata": {
        "id": "U9ZjvCIWmOvD"
      },
      "execution_count": 8,
      "outputs": []
    },
    {
      "cell_type": "code",
      "source": [
        "!python main.py"
      ],
      "metadata": {
        "colab": {
          "base_uri": "https://localhost:8080/"
        },
        "id": "7J3POIs-mz68",
        "outputId": "e12cfa2a-8944-43a0-8d2a-21a19643aeff"
      },
      "execution_count": 9,
      "outputs": [
        {
          "output_type": "stream",
          "name": "stdout",
          "text": [
            "Recommendations for color='Red', occasion='Party':\n",
            "['Red Dress']\n"
          ]
        }
      ]
    }
  ]
}